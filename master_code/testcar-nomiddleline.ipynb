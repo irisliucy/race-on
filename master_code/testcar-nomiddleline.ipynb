{
 "cells": [
  {
   "cell_type": "code",
   "execution_count": null,
   "metadata": {},
   "outputs": [],
   "source": [
    "from picamera.array import PiYUVArray, PiRGBArray\n",
    "from picamera import PiCamera\n",
    "\n",
    "from scipy.signal import find_peaks, butter, filtfilt\n",
    "\n",
    "import time\n",
    "import matplotlib.pyplot as plt\n",
    "import skimage as ski\n",
    "import numpy as np\n",
    "\n",
    "# Camera resolution\n",
    "res = (640, 480)\n",
    "\n",
    "CAMERA_CENTER = res[0] // 2\n",
    "       \n",
    "from raceon import PWM"
   ]
  },
  {
   "cell_type": "markdown",
   "metadata": {},
   "source": [
    "## Setup servo and motor PWM signal to control the steering angle and the speed.\n",
    "\n",
    "The values specified period and duty cycle ar in nanoseconds.\n",
    "\n",
    "Servo and motor controlled follow the following protocol:\n",
    "  1. Control signal is read 50 times per second by each device (servo and speed controller). Thus period is 20 ms => 20000000 ns\n",
    "  2. To send the minimum value (full left for servo and break for motor) the duty cycle should be 1 ms => 1000000 ns\n",
    "  3. Maximum value corresponds to a duty cycle of 2 ms => 2000000 ns\n",
    "  \n",
    "However, these devices are not perfect and you can set a duty cycle outside this range and still get a response. I would recoment to play with it and find are the limits in your case. Pay attention that servo is limited by the mechanical construction how much it can turn the wheels. Do not set these limits to a value which servo cannot execute as it will try to do that and eventually burn."
   ]
  },
  {
   "cell_type": "code",
   "execution_count": null,
   "metadata": {},
   "outputs": [],
   "source": [
    "# Enable servo\n",
    "SERVO_MIDDLE = 1500000\n",
    "\n",
    "servo = PWM(1)\n",
    "servo.period = 20000000\n",
    "servo.duty_cycle = SERVO_MIDDLE\n",
    "servo.enable = True"
   ]
  },
  {
   "cell_type": "code",
   "execution_count": null,
   "metadata": {},
   "outputs": [],
   "source": [
    "# Enable servo\n",
    "MOTOR_BRAKE = 1000000\n",
    "\n",
    "motor = PWM(0)\n",
    "motor.period = 20000000\n",
    "motor.duty_cycle = MOTOR_BRAKE\n",
    "motor.enable = True"
   ]
  },
  {
   "cell_type": "code",
   "execution_count": null,
   "metadata": {},
   "outputs": [],
   "source": [
    "motor.duty_cycle = MOTOR_BRAKE "
   ]
  },
  {
   "cell_type": "markdown",
   "metadata": {},
   "source": [
    "## The self driving code\n",
    "\n",
    "Quick explanation on how this algorithm works:\n",
    "  1. Initialize the camera, use a frame rate of 10 to 20 fps\n",
    "  2. Get the coefficients of the butterworth filter of order 3 and cut-off frequency of 0.1 (change cut of frequency if the peak functions is not working)\n",
    "  3. For each frame captured from the camera:\n",
    "    1. Get the blak and white part of the image\n",
    "    2. Select line 195 to use for lane detection (this number depends on your camera angle)\n",
    "    3. Filter the line and find the peaks that are greater than 160. White parts of the image have higher values than the black. The threshold of 160 depends on the ambient light, lower if the room is darker\n",
    "    4. Find the peaks left and right of the camera center, these peaks should corresponds to the white lines delimiting the track,\n",
    "    5. Compute the center point between these lines. This is where we want our car\n",
    "    6. Compute the error by substracting the center point from camera middle and multiply by 5000. 5000 is our P gain.\n",
    "    7. Adjust the duty cycle of the servo such that the"
   ]
  },
  {
   "cell_type": "code",
   "execution_count": null,
   "metadata": {},
   "outputs": [],
   "source": [
    "# Run a track detection algorithm on a single horizontal line.\n",
    "# Uses YUV420 image format as the Y component corresponds to image intensity (gray image)\n",
    "# and thus there is no need to convert from RGB to BW\n",
    "\n",
    "RUN_TIMER = 20 # seconds\n",
    "history=[]\n",
    "\n",
    "camera = PiCamera()\n",
    "        \n",
    "# Check the link below for the combinations between mode and resolution\n",
    "# https://picamera.readthedocs.io/en/release-1.13/fov.html#sensor-modes\n",
    "camera.sensor_mode = 7\n",
    "camera.resolution = res\n",
    "camera.framerate = 10\n",
    "\n",
    "# Initialize the buffer and start capturing\n",
    "rawCapture = PiYUVArray(camera, size=res)\n",
    "stream = camera.capture_continuous(rawCapture, format=\"yuv\", use_video_port=True)\n",
    "\n",
    "# Measure the time needed to process 300 images to estimate the FPS\n",
    "t = time.time()\n",
    "\n",
    "# To filter the noise in the image we use a 3rd order Butterworth filter\n",
    "\n",
    "# Wn = 0.02, the cut-off frequency, acceptable values are from 0 to 1\n",
    "b, a = butter(3, 0.1)\n",
    "\n",
    "line_pos    = CAMERA_CENTER\n",
    "first_frame = True\n",
    "\n",
    "# start car\n",
    "car_speed = 180000\n",
    "motor.duty_cycle = MOTOR_BRAKE + car_speed\n",
    "\n",
    "for f in stream:\n",
    "    if first_frame:\n",
    "        first_frame = False\n",
    "        # Reset the buffer for the next image\n",
    "        rawCapture.truncate(0)\n",
    "        continue\n",
    "    \n",
    "    # Stop after RUN_TIMER seconds\n",
    "    if (time.time() - t) > RUN_TIMER:\n",
    "        break\n",
    "        \n",
    "    # Get the intensity component of the image (a trick to get black and white images)\n",
    "    I = f.array[:, :, 0]\n",
    "    \n",
    "    # Reset the buffer for the next image\n",
    "    rawCapture.truncate(0)\n",
    "    \n",
    "    # Select a horizontal line in the middle of the image\n",
    "    L = I[195, :]\n",
    "\n",
    "    # Smooth the transitions so we can detect the peaks \n",
    "    Lf = filtfilt(b, a, L)\n",
    "    history.append(Lf)\n",
    "\n",
    "    # Find peaks which are higher than 0.5\n",
    "    p = find_peaks(Lf, height=160)\n",
    "    \n",
    "    peaks = p[0]\n",
    "    \n",
    "    line_left   = None\n",
    "    line_right  = None\n",
    "    peaks_left  = peaks[peaks < CAMERA_CENTER]\n",
    "    peaks_right = peaks[peaks > CAMERA_CENTER]\n",
    "\n",
    "    if peaks_left.size:\n",
    "        line_left = peaks_left.max()\n",
    "\n",
    "    if peaks_right.size:\n",
    "        line_right = peaks_right.min()\n",
    "        \n",
    "    if line_left and line_right:\n",
    "        line_pos    = (line_left + line_right ) // 2\n",
    "        track_width = line_right - line_left\n",
    "        \n",
    "    elif line_left and not line_right:\n",
    "        line_pos    = line_left + int(track_width / 2)\n",
    "        \n",
    "    elif not line_left and line_right:\n",
    "        line_pos    = line_right - int(track_width / 2)\n",
    "        \n",
    "    else:\n",
    "        print(\"no line\")\n",
    "        \n",
    "    print(line_pos, peaks)\n",
    "    \n",
    "    DUTY_CYCLE = SERVO_MIDDLE + 5000 * (CAMERA_CENTER - line_pos)\n",
    "    if DUTY_CYCLE > 2000000:\n",
    "        DUTY_CYCLE = 2000000\n",
    "    if DUTY_CYCLE < 1000000:\n",
    "        DUTY_CYCLE = 1000000\n",
    "        \n",
    "    servo.duty_cycle =  DUTY_CYCLE\n",
    "        \n",
    "#Initialize lines position\n",
    "#Check which lines are closer them in the next frame\n",
    "\n",
    "        \n",
    "        #print(line_pos)\n",
    "        \n",
    "motor.duty_cycle = MOTOR_BRAKE    \n",
    "    \n",
    "\n",
    "# Release resources\n",
    "stream.close()\n",
    "rawCapture.close()\n",
    "camera.close()"
   ]
  },
  {
   "cell_type": "code",
   "execution_count": null,
   "metadata": {},
   "outputs": [],
   "source": [
    "# Release resources\n",
    "stream.close()\n",
    "rawCapture.close()\n",
    "camera.close()\n",
    "motor.duty_cycle = MOTOR_BRAKE   "
   ]
  },
  {
   "cell_type": "code",
   "execution_count": null,
   "metadata": {},
   "outputs": [],
   "source": [
    "plt.imshow(I)\n",
    "print(peaks)"
   ]
  },
  {
   "cell_type": "code",
   "execution_count": null,
   "metadata": {},
   "outputs": [],
   "source": [
    "\n",
    "peaks = p[0]\n",
    "\n",
    "line_left   = None\n",
    "line_right  = None\n",
    "peaks_left  = peaks[peaks < CAMERA_CENTER]\n",
    "peaks_right = peaks[peaks > CAMERA_CENTER]\n",
    "\n",
    "if peaks_left.size:\n",
    "    line_left = peaks_left.max()\n",
    "    \n",
    "if peaks_right.size:\n",
    "    line_right = peaks_right.min()\n",
    "    \n",
    "p"
   ]
  },
  {
   "cell_type": "code",
   "execution_count": null,
   "metadata": {},
   "outputs": [],
   "source": [
    "L = I[200, :]\n",
    "b, a = butter(3, 0.1)\n",
    "Lf = filtfilt(b, a, L)\n",
    "\n",
    "plt.plot(L)\n",
    "plt.plot(Lf)"
   ]
  },
  {
   "cell_type": "code",
   "execution_count": null,
   "metadata": {},
   "outputs": [],
   "source": [
    "plt.imshow(np.vstack(history))"
   ]
  },
  {
   "cell_type": "code",
   "execution_count": null,
   "metadata": {},
   "outputs": [],
   "source": []
  },
  {
   "cell_type": "code",
   "execution_count": null,
   "metadata": {},
   "outputs": [],
   "source": []
  }
 ],
 "metadata": {
  "kernelspec": {
   "display_name": "Python 3",
   "language": "python",
   "name": "python3"
  },
  "language_info": {
   "codemirror_mode": {
    "name": "ipython",
    "version": 3
   },
   "file_extension": ".py",
   "mimetype": "text/x-python",
   "name": "python",
   "nbconvert_exporter": "python",
   "pygments_lexer": "ipython3",
   "version": "3.7.3"
  }
 },
 "nbformat": 4,
 "nbformat_minor": 4
}
