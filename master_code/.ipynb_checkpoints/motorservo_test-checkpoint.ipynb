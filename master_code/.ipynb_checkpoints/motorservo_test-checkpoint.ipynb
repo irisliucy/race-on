{
 "cells": [
  {
   "cell_type": "markdown",
   "metadata": {},
   "source": [
    "# Test scripts for motor and servo components"
   ]
  },
  {
   "cell_type": "code",
   "execution_count": null,
   "metadata": {},
   "outputs": [],
   "source": [
    "import time\n",
    "import matplotlib.pyplot as plt\n",
    "import numpy as np\n",
    "\n",
    "from raceon import PWM"
   ]
  },
  {
   "cell_type": "markdown",
   "metadata": {},
   "source": [
    "### Motor initialization and configuration\n",
    "\n",
    "Motor speed range [0 - stop, 1 - full speed]"
   ]
  },
  {
   "cell_type": "code",
   "execution_count": 2,
   "metadata": {},
   "outputs": [],
   "source": [
    "# Enable servo\n",
    "# object for servo\n",
    "MOTOR_BRAKE = 1000000\n",
    "\n",
    "motor = PWM(0)\n",
    "motor.period = 20000000\n",
    "motor.duty_cycle = MOTOR_BRAKE\n",
    "motor.enable = True\n",
    "\n",
    "#!! Wait for 3 seconds until the motor stops beeping"
   ]
  },
  {
   "cell_type": "markdown",
   "metadata": {},
   "source": [
    "# Upon start of device, motor speed must be set to 0 for at least 5 seconds "
   ]
  },
  {
   "cell_type": "code",
   "execution_count": 3,
   "metadata": {},
   "outputs": [],
   "source": [
    "motor.duty_cycle = MOTOR_BRAKE + 120000 # Motor should run at low speed"
   ]
  },
  {
   "cell_type": "code",
   "execution_count": null,
   "metadata": {},
   "outputs": [],
   "source": [
    "motor.duty_cycle = MOTOR_BRAKE + 1000000 # Motor full speed"
   ]
  },
  {
   "cell_type": "code",
   "execution_count": 4,
   "metadata": {},
   "outputs": [],
   "source": [
    "motor.duty_cycle = MOTOR_BRAKE # stop motor"
   ]
  },
  {
   "cell_type": "markdown",
   "metadata": {},
   "source": [
    "### Servo configuration and calibration\n",
    "\n",
    "Servo angle range [-1 - full left, 0 - center, 1 - full right]\n",
    "\n",
    "* Physical calibration of steering\n",
    "- Mount the motor on the vehicle\n",
    "- Mount the servo on the vehicle and while keeping the wheels straight. \n",
    "- Calibrate the servo to zero angle (with the while \n"
   ]
  },
  {
   "cell_type": "code",
   "execution_count": 1,
   "metadata": {},
   "outputs": [],
   "source": [
    "# # Enable servo\n",
    "# # object for servo\n",
    "SERVO_MIDDLE = 1500000\n",
    "\n",
    "servo = PWM(1)\n",
    "servo.period = 20000000\n",
    "servo.duty_cycle = SERVO_MIDDLE\n",
    "servo.enable = True"
   ]
  },
  {
   "cell_type": "code",
   "execution_count": null,
   "metadata": {},
   "outputs": [],
   "source": [
    "servo.duty_cycle = SERVO_MIDDLE - 500000 # Full left"
   ]
  },
  {
   "cell_type": "code",
   "execution_count": null,
   "metadata": {},
   "outputs": [],
   "source": [
    "servo.duty_cycle = SERVO_MIDDLE + 500000 # Full right"
   ]
  },
  {
   "cell_type": "code",
   "execution_count": null,
   "metadata": {},
   "outputs": [],
   "source": [
    "servo.duty_cycle = SERVO_MIDDLE # Back to middle"
   ]
  },
  {
   "cell_type": "markdown",
   "metadata": {},
   "source": [
    "# Now mount the servo"
   ]
  },
  {
   "cell_type": "code",
   "execution_count": null,
   "metadata": {},
   "outputs": [],
   "source": []
  }
 ],
 "metadata": {
  "kernelspec": {
   "display_name": "Python 3",
   "language": "python",
   "name": "python3"
  },
  "language_info": {
   "codemirror_mode": {
    "name": "ipython",
    "version": 3
   },
   "file_extension": ".py",
   "mimetype": "text/x-python",
   "name": "python",
   "nbconvert_exporter": "python",
   "pygments_lexer": "ipython3",
   "version": "3.7.3"
  }
 },
 "nbformat": 4,
 "nbformat_minor": 4
}
